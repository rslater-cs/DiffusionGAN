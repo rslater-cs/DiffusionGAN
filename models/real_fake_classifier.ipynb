{
 "cells": [
  {
   "attachments": {},
   "cell_type": "markdown",
   "metadata": {},
   "source": [
    "## Using CUDA"
   ]
  },
  {
   "cell_type": "code",
   "execution_count": 1,
   "metadata": {},
   "outputs": [
    {
     "name": "stdout",
     "output_type": "stream",
     "text": [
      "Using device: cuda\n",
      "NVIDIA GeForce RTX 3070\n",
      "Memory Usage:\n",
      "Allocated: 0.0 GB\n",
      "Cached:    0.0 GB\n"
     ]
    }
   ],
   "source": [
    "import torch\n",
    "\n",
    "# setting device on GPU if available, else CPU\n",
    "device = torch.device('cuda' if torch.cuda.is_available() else 'cpu')\n",
    "print('Using device:', device)\n",
    "\n",
    "#Additional Info when using cuda\n",
    "if device.type == 'cuda':\n",
    "    print(torch.cuda.get_device_name(0))\n",
    "    print('Memory Usage:')\n",
    "    print('Allocated:', round(torch.cuda.memory_allocated(0)/1024**3,1), 'GB')\n",
    "    print('Cached:   ', round(torch.cuda.memory_reserved(0)/1024**3,1), 'GB')"
   ]
  },
  {
   "cell_type": "code",
   "execution_count": 2,
   "metadata": {},
   "outputs": [],
   "source": [
    "# !isic image download --search \"diagnosis:\\\"actinic keratosis\\\"\" real_images/"
   ]
  },
  {
   "attachments": {},
   "cell_type": "markdown",
   "metadata": {},
   "source": [
    "## Organising Dataset"
   ]
  },
  {
   "cell_type": "code",
   "execution_count": 3,
   "metadata": {},
   "outputs": [],
   "source": [
    "import os\n",
    "import shutil\n",
    "\n",
    "# Function copies images from one folder to another, given a startpoint and endpoint.\n",
    "def copy_images(start_index, end_index, source_folder, destination_folder):\n",
    "    image_files = os.listdir(source_folder)\n",
    "    image_files = [file for file in image_files if file.lower().endswith('.jpg') or file.lower().endswith('.jpeg')]\n",
    "    # image_files.sort()  # Sort the files alphabetically\n",
    "\n",
    "    # Validate the range of indices\n",
    "    if start_index < 0 or end_index >= len(image_files) or start_index > end_index:\n",
    "        print(\"Invalid range of indices.\")\n",
    "        return\n",
    "\n",
    "    # Create the destination folder if it doesn't exist\n",
    "    if not os.path.exists(destination_folder):\n",
    "        os.makedirs(destination_folder)\n",
    "\n",
    "    # Iterate over the image files in the given range\n",
    "    for i in range(start_index, end_index + 1):\n",
    "        image_file = image_files[i]\n",
    "        source_path = os.path.join(source_folder, image_file)\n",
    "        destination_path = os.path.join(destination_folder, image_file)\n",
    "\n",
    "        # Move the image file to the destination folder\n",
    "        shutil.copy(source_path, destination_path)\n",
    "\n",
    "    print(f\"Copied {end_index - start_index + 1} image(s) from '{source_folder}' to '{destination_folder}'.\")"
   ]
  },
  {
   "cell_type": "code",
   "execution_count": 4,
   "metadata": {},
   "outputs": [
    {
     "name": "stdout",
     "output_type": "stream",
     "text": [
      "Copied 85 image(s) from './real_images/' to './dataset/train/real'.\n",
      "Copied 85 image(s) from './fake_images/' to './dataset/train/fake'.\n",
      "Copied 15 image(s) from './real_images/' to './dataset/test/real'.\n",
      "Copied 15 image(s) from './fake_images/' to './dataset/test/fake'.\n",
      "Copied images!\n"
     ]
    }
   ],
   "source": [
    "# Function moves necessary images to make training and testing folder structure\n",
    "def prepare_data():\n",
    "    # Available: 1000 real, 100 fake\n",
    "\n",
    "    # Train data (85 real, 85 fake)\n",
    "    copy_images(0, 84, \"./real_images/\", \"./dataset/train/real\")\n",
    "    copy_images(0, 84, \"./fake_images/\", \"./dataset/train/fake\")\n",
    "\n",
    "    # Test data (15 real, 15 fake)\n",
    "    copy_images(85, 99, \"./real_images/\", \"./dataset/test/real\")\n",
    "    copy_images(85, 99, \"./fake_images/\", \"./dataset/test/fake\")\n",
    "\n",
    "    print(f\"Copied images!\")\n",
    "\n",
    "prepare_data()"
   ]
  },
  {
   "attachments": {},
   "cell_type": "markdown",
   "metadata": {},
   "source": [
    "## Loading Dataset"
   ]
  },
  {
   "cell_type": "code",
   "execution_count": 5,
   "metadata": {},
   "outputs": [],
   "source": [
    "import torch\n",
    "from torch.utils.data import Dataset\n",
    "from PIL import Image\n",
    "import os\n",
    "\n",
    "class SkinCancerDataset(Dataset):\n",
    "    def __init__(self, root_dir, transform=None):\n",
    "        self.root_dir = root_dir\n",
    "        self.transform = transform\n",
    "        self.image_paths = []\n",
    "        self.labels = []\n",
    "\n",
    "        # Collect image paths and corresponding labels\n",
    "        for folder in os.listdir(root_dir):\n",
    "            folder_path = os.path.join(root_dir, folder)\n",
    "            if os.path.isdir(folder_path):\n",
    "                label = 0 if folder == 'real' else 1\n",
    "                for image_name in os.listdir(folder_path):\n",
    "                    image_path = os.path.join(folder_path, image_name)\n",
    "                    self.image_paths.append(image_path)\n",
    "                    self.labels.append(label)\n",
    "    \n",
    "    def __len__(self):\n",
    "        return len(self.image_paths)\n",
    "\n",
    "    def __getitem__(self, index):\n",
    "        image_path = self.image_paths[index]\n",
    "        label = self.labels[index]\n",
    "        image = Image.open(image_path).convert('RGB')\n",
    "        \n",
    "        if self.transform is not None:\n",
    "            image = self.transform(image)\n",
    "        \n",
    "        return image, label\n"
   ]
  },
  {
   "cell_type": "code",
   "execution_count": 6,
   "metadata": {},
   "outputs": [],
   "source": [
    "from torchvision.transforms import transforms\n",
    "\n",
    "transform = transforms.Compose([\n",
    "    transforms.Resize((224, 224)), \n",
    "    transforms.ToTensor(), \n",
    "    transforms.Normalize(mean=[0.485, 0.456, 0.406], std=[0.229, 0.224, 0.225]),\n",
    "])\n",
    "\n",
    "# Example usage\n",
    "train_dataset = SkinCancerDataset('dataset/train', transform=transform)\n",
    "test_dataset = SkinCancerDataset('dataset/test', transform=transform)\n",
    "\n",
    "train_loader = torch.utils.data.DataLoader(train_dataset, batch_size=4, shuffle=True)\n",
    "test_loader = torch.utils.data.DataLoader(test_dataset, batch_size=4, shuffle=False)"
   ]
  },
  {
   "attachments": {},
   "cell_type": "markdown",
   "metadata": {},
   "source": [
    "## Model\n",
    "Pre-trained Res-Net 18 Model"
   ]
  },
  {
   "cell_type": "code",
   "execution_count": 7,
   "metadata": {},
   "outputs": [
    {
     "name": "stderr",
     "output_type": "stream",
     "text": [
      "c:\\Users\\fdabr\\anaconda3\\envs\\machine_learning\\lib\\site-packages\\torchvision\\models\\_utils.py:208: UserWarning: The parameter 'pretrained' is deprecated since 0.13 and may be removed in the future, please use 'weights' instead.\n",
      "  warnings.warn(\n",
      "c:\\Users\\fdabr\\anaconda3\\envs\\machine_learning\\lib\\site-packages\\torchvision\\models\\_utils.py:223: UserWarning: Arguments other than a weight enum or `None` for 'weights' are deprecated since 0.13 and may be removed in the future. The current behavior is equivalent to passing `weights=ResNet18_Weights.IMAGENET1K_V1`. You can also use `weights=ResNet18_Weights.DEFAULT` to get the most up-to-date weights.\n",
      "  warnings.warn(msg)\n"
     ]
    }
   ],
   "source": [
    "import torchvision.models as models\n",
    "import torch.nn as nn\n",
    "\n",
    "# Load a pre-trained model\n",
    "model = models.resnet18(pretrained=True)\n",
    "\n",
    "# Replace the last fully-connected layer\n",
    "# Parameters of newly constructed modules have requires_grad=True by default\n",
    "num_features = model.fc.in_features\n",
    "model.fc = nn.Linear(num_features, 2) # binary classification (real/fake)\n",
    "\n",
    "# Move model to GPU if available\n",
    "model = model.to(device)"
   ]
  },
  {
   "cell_type": "code",
   "execution_count": 8,
   "metadata": {},
   "outputs": [],
   "source": [
    "# Loss function and optimizer\n",
    "criterion = nn.CrossEntropyLoss()\n",
    "optimizer = torch.optim.Adam(model.parameters())"
   ]
  },
  {
   "attachments": {},
   "cell_type": "markdown",
   "metadata": {},
   "source": [
    "## Training"
   ]
  },
  {
   "cell_type": "code",
   "execution_count": 9,
   "metadata": {},
   "outputs": [
    {
     "name": "stdout",
     "output_type": "stream",
     "text": [
      "Using device: cuda\n",
      "Epoch [1/2], Step [10/43], Loss: 0.9486\n",
      "Epoch [1/2], Step [20/43], Loss: 1.2882\n",
      "Epoch [1/2], Step [30/43], Loss: 0.4265\n",
      "Epoch [1/2], Step [40/43], Loss: 0.3495\n",
      "Epoch [1/2], Accuracy: 74.71%\n",
      "Epoch [2/2], Step [10/43], Loss: 0.2158\n",
      "Epoch [2/2], Step [20/43], Loss: 0.3950\n",
      "Epoch [2/2], Step [30/43], Loss: 0.4459\n",
      "Epoch [2/2], Step [40/43], Loss: 0.3301\n",
      "Epoch [2/2], Accuracy: 87.06%\n"
     ]
    }
   ],
   "source": [
    "print(\"Using device:\", device)\n",
    "\n",
    "model.train()\n",
    "num_epochs = 2\n",
    "print_interval = 10  # Adjust value to control how often to print loss\n",
    "\n",
    "for epoch in range(num_epochs):\n",
    "    running_loss = 0.0\n",
    "    correct = 0\n",
    "    total = 0\n",
    "    \n",
    "    for i, (images, labels) in enumerate(train_loader):\n",
    "        images = images.to(device)\n",
    "        labels = labels.to(device)\n",
    "        \n",
    "        # Forward pass\n",
    "        outputs = model(images)\n",
    "        loss = criterion(outputs, labels)\n",
    "        \n",
    "        # Backward and optimize\n",
    "        optimizer.zero_grad()\n",
    "        loss.backward()\n",
    "        optimizer.step()\n",
    "\n",
    "        # Print loss for this batch\n",
    "        running_loss += loss.item()\n",
    "        if (i + 1) % print_interval == 0:\n",
    "            print(f\"Epoch [{epoch+1}/{num_epochs}], Step [{i+1}/{len(train_loader)}], Loss: {running_loss/print_interval:.4f}\")\n",
    "            running_loss = 0.0\n",
    "        \n",
    "        # Calculate accuracy\n",
    "        _, predicted = torch.max(outputs.data, 1)\n",
    "        total += labels.size(0)\n",
    "        correct += (predicted == labels).sum().item()\n",
    "\n",
    "    # Print accuracy for this epoch\n",
    "    epoch_accuracy = 100 * correct / total\n",
    "    print(f\"Epoch [{epoch+1}/{num_epochs}], Accuracy: {epoch_accuracy:.2f}%\")\n"
   ]
  },
  {
   "attachments": {},
   "cell_type": "markdown",
   "metadata": {},
   "source": [
    "## Testing"
   ]
  },
  {
   "cell_type": "code",
   "execution_count": 10,
   "metadata": {},
   "outputs": [
    {
     "name": "stdout",
     "output_type": "stream",
     "text": [
      "Tested 15 real images, and 15 fake images.\n",
      "Test Accuracy of the model on the test images: 86.66666666666667 %\n"
     ]
    }
   ],
   "source": [
    "# Switch the model to evaluation mode\n",
    "model.eval()\n",
    "\n",
    "with torch.no_grad():\n",
    "    real_count = 0\n",
    "    fake_count = 0\n",
    "    correct = 0\n",
    "    total = 0\n",
    "    for images, labels in test_loader:\n",
    "        real_count += len(labels[labels == 1])\n",
    "        fake_count += len(labels[labels == 0])\n",
    "\n",
    "        images = images.to(device)\n",
    "        labels = labels.to(device)\n",
    "        outputs = model(images)\n",
    "        _, predicted = torch.max(outputs.data, 1)\n",
    "        total += labels.size(0)\n",
    "        correct += (predicted == labels).sum().item()\n",
    "    \n",
    "    print(f'Tested {real_count} real images, and {fake_count} fake images.')\n",
    "    print(f'Test Accuracy of the model on the test images: {100 * correct / total} %')"
   ]
  },
  {
   "cell_type": "code",
   "execution_count": 11,
   "metadata": {},
   "outputs": [],
   "source": [
    "from PIL import Image\n",
    "\n",
    "# Function for testing single image\n",
    "def predict_image(image_path):\n",
    "    image = Image.open(image_path).convert('RGB')\n",
    "\n",
    "    transform = transforms.Compose([\n",
    "        transforms.Resize((224, 224)), \n",
    "        transforms.ToTensor(), \n",
    "        transforms.Normalize(mean=[0.485, 0.456, 0.406], std=[0.229, 0.224, 0.225]),\n",
    "    ])\n",
    "    image = transform(image)\n",
    "    image = image.unsqueeze(0).to(device)  # Add batch dimension and move to device\n",
    "\n",
    "    model.eval()  # Switch to evaluation mode\n",
    "    with torch.no_grad():\n",
    "        output = model(image)\n",
    "        _, predicted = torch.max(output, 1)\n",
    "\n",
    "    if predicted.item() == 0:\n",
    "        return \"Real\"\n",
    "    else:\n",
    "        return \"Synthetic\"\n"
   ]
  },
  {
   "cell_type": "code",
   "execution_count": 14,
   "metadata": {},
   "outputs": [
    {
     "name": "stdout",
     "output_type": "stream",
     "text": [
      "Real\n",
      "Synthetic\n"
     ]
    }
   ],
   "source": [
    "# Testing random images\n",
    "\n",
    "real_list = os.listdir(\"./real_images/\")\n",
    "real_list = [file for file in real_list if file.lower().endswith('.jpg') or file.lower().endswith('.jpeg')]\n",
    "\n",
    "fake_list = os.listdir(\"./fake_images/\")\n",
    "fake_list = [file for file in fake_list if file.lower().endswith('.jpg') or file.lower().endswith('.jpeg')]\n",
    "\n",
    "print(predict_image(\"./real_images/\" + real_list[948]))\n",
    "print(predict_image(\"./fake_images/\" + fake_list[0]))"
   ]
  }
 ],
 "metadata": {
  "kernelspec": {
   "display_name": "machine_learning",
   "language": "python",
   "name": "python3"
  },
  "language_info": {
   "codemirror_mode": {
    "name": "ipython",
    "version": 3
   },
   "file_extension": ".py",
   "mimetype": "text/x-python",
   "name": "python",
   "nbconvert_exporter": "python",
   "pygments_lexer": "ipython3",
   "version": "3.10.9"
  },
  "orig_nbformat": 4
 },
 "nbformat": 4,
 "nbformat_minor": 2
}
